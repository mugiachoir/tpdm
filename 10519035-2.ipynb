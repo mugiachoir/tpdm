{
 "cells": [
  {
   "cell_type": "code",
   "execution_count": 1,
   "metadata": {},
   "outputs": [
    {
     "name": "stdout",
     "output_type": "stream",
     "text": [
      "Anggur\n",
      "Jeruk\n",
      "Pisang\n"
     ]
    }
   ],
   "source": [
    "dlist=['Anggur','Jeruk','Pisang']\n",
    "print(dlist[0])\n",
    "print(dlist[1])\n",
    "print(dlist[2])"
   ]
  },
  {
   "cell_type": "code",
   "execution_count": 2,
   "metadata": {},
   "outputs": [
    {
     "name": "stdout",
     "output_type": "stream",
     "text": [
      "Anggur\n",
      "Jeruk\n",
      "Pisang\n",
      "Anggur\n",
      "Jeruk\n",
      "Pisang\n"
     ]
    }
   ],
   "source": [
    "dlist=['Anggur','Jeruk','Pisang']\n",
    "print(dlist[0])\n",
    "print(dlist[1])\n",
    "print(dlist[2])\n",
    "for x in dlist:\n",
    "    print(x)"
   ]
  },
  {
   "cell_type": "code",
   "execution_count": 5,
   "metadata": {},
   "outputs": [
    {
     "name": "stdout",
     "output_type": "stream",
     "text": [
      "A\n",
      "n\n",
      "g\n",
      "g\n",
      "u\n",
      "r\n"
     ]
    }
   ],
   "source": [
    "for x in 'Anggur':\n",
    "    print(x)"
   ]
  },
  {
   "cell_type": "code",
   "execution_count": 7,
   "metadata": {},
   "outputs": [
    {
     "name": "stdout",
     "output_type": "stream",
     "text": [
      "(1, 2, 3)\n"
     ]
    }
   ],
   "source": [
    "xarr = [(1,2,3),(4,5,6)]\n",
    "print (xarr[0])"
   ]
  },
  {
   "cell_type": "code",
   "execution_count": 16,
   "metadata": {},
   "outputs": [
    {
     "name": "stdout",
     "output_type": "stream",
     "text": [
      "((1, 2, 3), (4, 5, 6))\n",
      "((7, 8, 9), (10, 11, 12))\n",
      "(1, 2, 3)\n",
      "(4, 5, 6)\n",
      "(7, 8, 9)\n",
      "(10, 11, 12)\n"
     ]
    }
   ],
   "source": [
    "xa=[((1,2,3),(4,5,6)),((7,8,9),(10,11,12))]\n",
    "print (xa[0])\n",
    "print (xa[1])\n",
    "print (xa[0][0])\n",
    "print (xa[0][1])\n",
    "print (xa[1][0])\n",
    "print (xa[1][1])"
   ]
  },
  {
   "cell_type": "code",
   "execution_count": 1,
   "metadata": {},
   "outputs": [
    {
     "name": "stdout",
     "output_type": "stream",
     "text": [
      "Package                Version\n",
      "---------------------- -------\n",
      "asttokens              2.0.5\n",
      "autopep8               1.6.0\n",
      "backcall               0.2.0\n",
      "colorama               0.4.5\n",
      "debugpy                1.6.2\n",
      "decorator              5.1.1\n",
      "entrypoints            0.4\n",
      "executing              0.8.3\n",
      "ipykernel              6.15.1\n",
      "ipython                8.4.0\n",
      "jedi                   0.18.1\n",
      "jupyter-client         7.3.4\n",
      "jupyter-core           4.11.1\n",
      "matplotlib-inline      0.1.3\n",
      "mysql-connector-python 8.0.31\n",
      "nest-asyncio           1.5.5\n",
      "numpy                  1.23.1\n",
      "packaging              21.3\n",
      "pandas                 1.4.3\n",
      "parso                  0.8.3\n",
      "pickleshare            0.7.5\n",
      "pip                    22.0.4\n",
      "prompt-toolkit         3.0.30\n",
      "protobuf               3.20.1\n",
      "psutil                 5.9.1\n",
      "pure-eval              0.2.2\n",
      "pycodestyle            2.8.0\n",
      "Pygments               2.12.0\n",
      "pyparsing              3.0.9\n",
      "python-dateutil        2.8.2\n",
      "pytz                   2022.1\n",
      "pywin32                304\n",
      "pyzmq                  23.2.0\n",
      "setuptools             58.1.0\n",
      "six                    1.16.0\n",
      "stack-data             0.3.0\n",
      "toml                   0.10.2\n",
      "tornado                6.2\n",
      "traitlets              5.3.0\n",
      "wcwidth                0.2.5\n"
     ]
    },
    {
     "name": "stderr",
     "output_type": "stream",
     "text": [
      "WARNING: You are using pip version 22.0.4; however, version 22.3 is available.\n",
      "You should consider upgrading via the 'C:\\Users\\asus\\AppData\\Local\\Programs\\Python\\Python310\\python.exe -m pip install --upgrade pip' command.\n"
     ]
    }
   ],
   "source": [
    "!pip list"
   ]
  },
  {
   "cell_type": "code",
   "execution_count": 2,
   "metadata": {},
   "outputs": [
    {
     "data": {
      "text/html": [
       "<div>\n",
       "<style scoped>\n",
       "    .dataframe tbody tr th:only-of-type {\n",
       "        vertical-align: middle;\n",
       "    }\n",
       "\n",
       "    .dataframe tbody tr th {\n",
       "        vertical-align: top;\n",
       "    }\n",
       "\n",
       "    .dataframe thead th {\n",
       "        text-align: right;\n",
       "    }\n",
       "</style>\n",
       "<table border=\"1\" class=\"dataframe\">\n",
       "  <thead>\n",
       "    <tr style=\"text-align: right;\">\n",
       "      <th></th>\n",
       "      <th>A</th>\n",
       "      <th>B</th>\n",
       "    </tr>\n",
       "  </thead>\n",
       "  <tbody>\n",
       "    <tr>\n",
       "      <th>0</th>\n",
       "      <td>0</td>\n",
       "      <td>1</td>\n",
       "    </tr>\n",
       "    <tr>\n",
       "      <th>1</th>\n",
       "      <td>1</td>\n",
       "      <td>2</td>\n",
       "    </tr>\n",
       "    <tr>\n",
       "      <th>2</th>\n",
       "      <td>2</td>\n",
       "      <td>3</td>\n",
       "    </tr>\n",
       "    <tr>\n",
       "      <th>3</th>\n",
       "      <td>3</td>\n",
       "      <td>4</td>\n",
       "    </tr>\n",
       "    <tr>\n",
       "      <th>4</th>\n",
       "      <td>4</td>\n",
       "      <td>5</td>\n",
       "    </tr>\n",
       "    <tr>\n",
       "      <th>5</th>\n",
       "      <td>5</td>\n",
       "      <td>6</td>\n",
       "    </tr>\n",
       "    <tr>\n",
       "      <th>6</th>\n",
       "      <td>6</td>\n",
       "      <td>7</td>\n",
       "    </tr>\n",
       "  </tbody>\n",
       "</table>\n",
       "</div>"
      ],
      "text/plain": [
       "   A  B\n",
       "0  0  1\n",
       "1  1  2\n",
       "2  2  3\n",
       "3  3  4\n",
       "4  4  5\n",
       "5  5  6\n",
       "6  6  7"
      ]
     },
     "execution_count": 2,
     "metadata": {},
     "output_type": "execute_result"
    }
   ],
   "source": [
    "import pandas as pd\n",
    "d = {'A' : [0,1,2,3,4,5,6], 'B' : pd.Series([1,2,3,4,5,6,7], index=[0,1,2,3,4,5,6])}\n",
    "df = pd.DataFrame(data=d, index=[0,1,2,3,4,5,6])\n",
    "df"
   ]
  }
 ],
 "metadata": {
  "kernelspec": {
   "display_name": "Python 3.10.5 64-bit",
   "language": "python",
   "name": "python3"
  },
  "language_info": {
   "codemirror_mode": {
    "name": "ipython",
    "version": 3
   },
   "file_extension": ".py",
   "mimetype": "text/x-python",
   "name": "python",
   "nbconvert_exporter": "python",
   "pygments_lexer": "ipython3",
   "version": "3.10.5"
  },
  "vscode": {
   "interpreter": {
    "hash": "876db7d3f8682b7e4c5477e5f1e2dc2bd1b19fe05d9aabd59218369070754b39"
   }
  }
 },
 "nbformat": 4,
 "nbformat_minor": 2
}
